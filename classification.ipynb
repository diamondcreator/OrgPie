{
 "cells": [
  {
   "cell_type": "code",
   "execution_count": 5,
   "metadata": {},
   "outputs": [],
   "source": [
    "import pyexiv2\n",
    "import requests\n",
    "import json"
   ]
  },
  {
   "cell_type": "code",
   "execution_count": 21,
   "metadata": {},
   "outputs": [],
   "source": [
    "# Classifica a imagem por tags enviando pelo tagbox e recebendo as tags\n",
    "def classify_file(filename, file):\n",
    "    response = requests.post('http://localhost:8080/tagbox/check', files={'file': (filename, file)})\n",
    "    body = json.loads(response.content)\n",
    "    return body['success'], body['tags']\n",
    "\n",
    "# Modifica o exif das imagens para incluir as tags\n",
    "def modify_tags(filename, tags):\n",
    "    with open(filename, 'rb+') as file:\n",
    "        with pyexiv2.ImageData(file.read()) as img:\n",
    "            metadata = img.read_xmp()\n",
    "            img.modify_xmp({'Xmp.dc.subject': tags})\n",
    "            file.seek(0)\n",
    "            file.write(img.get_bytes())\n",
    "\n",
    "def get_tags(file):\n",
    "    with pyexiv2.ImageData(file.read()) as img:\n",
    "        return img.read_xmp()['Xmp.dc.subject']\n",
    "\n",
    "# Le arquivo e manda para classificação\n",
    "def classify_by_filename(filename):\n",
    "    with open(filename, 'rb+') as file:\n",
    "        res, tags = classify_file(filename, file)\n",
    "        cleaned_tags = [tag['tag'] for tag in tags]\n",
    "        if not res:\n",
    "            raise ValueError('Impossible to classify image!')\n",
    "        return cleaned_tags, file"
   ]
  },
  {
   "cell_type": "code",
   "execution_count": 22,
   "metadata": {},
   "outputs": [
    {
     "output_type": "stream",
     "name": "stdout",
     "text": [
      "Anime: Cartoon, Anime, Clothing, Illustration, Adult\nWoman: Sitting, Leg, Limb, Clothing, Photo shoot, Furniture, Footwear\nMontains: Mountain, Hill, Landscape, Plateau, Ridge, Horizon, Soil, Rock, Geology, Morning\n"
     ]
    }
   ],
   "source": [
    "# Vamos testar a classificação com 3 imagens\n",
    "anime_res, anime_file = classify_by_filename(\"resources/anime.png\")\n",
    "woman_res, woman_file = classify_by_filename(\"resources/woman.jpg\")\n",
    "montains_res, montains_file = classify_by_filename(\"resources/place.jpg\")\n",
    "\n",
    "print(\"Anime:\", \", \".join(anime_res))\n",
    "print(\"Woman:\",  \", \".join(woman_res))\n",
    "print(\"Montains:\", \", \".join(montains_res))"
   ]
  },
  {
   "cell_type": "code",
   "execution_count": 32,
   "metadata": {},
   "outputs": [],
   "source": [
    "# Agora já podemos escrever o exif da classificação nas 3 imagens\n",
    "modify_tags(\"resources/anime.png\", anime_res)\n",
    "modify_tags(\"resources/woman.jpg\", woman_res)\n",
    "modify_tags(\"resources/place.jpg\", montains_res)"
   ]
  },
  {
   "cell_type": "code",
   "execution_count": 33,
   "metadata": {},
   "outputs": [
    {
     "output_type": "stream",
     "name": "stdout",
     "text": [
      "['Cartoon', 'Anime', 'Clothing', 'Illustration', 'Adult']\n"
     ]
    }
   ],
   "source": [
    "with open(\"resources/anime.png\", 'rb+') as file:\n",
    "    with pyexiv2.ImageData(file.read()) as img:\n",
    "        print(img.read_xmp()['Xmp.dc.subject'])"
   ]
  },
  {
   "cell_type": "code",
   "execution_count": null,
   "metadata": {},
   "outputs": [],
   "source": []
  }
 ],
 "metadata": {
  "kernelspec": {
   "name": "python3",
   "display_name": "Python 3.8.5 64-bit (conda)",
   "metadata": {
    "interpreter": {
     "hash": "7fd1b59f5febc8c15c890f1d00e6206ac157e64c30c6247f2b4d600b239b1ad9"
    }
   }
  }
 },
 "nbformat": 4,
 "nbformat_minor": 4
}